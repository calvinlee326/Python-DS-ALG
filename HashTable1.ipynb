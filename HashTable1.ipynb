{
 "cells": [
  {
   "cell_type": "code",
   "execution_count": 1,
   "id": "initial_id",
   "metadata": {
    "collapsed": true,
    "ExecuteTime": {
     "end_time": "2024-02-27T03:03:49.802403Z",
     "start_time": "2024-02-27T03:03:49.773128Z"
    }
   },
   "outputs": [],
   "source": [
    "stock_prices = []\n",
    "with open(\"stock_prices.csv\", \"r\") as f:\n",
    "    for line in f:\n",
    "        tokens = line.split(',')\n",
    "        day = tokens[0]\n",
    "        price = float(tokens[1])\n",
    "        stock_prices.append([day, price])"
   ]
  },
  {
   "cell_type": "code",
   "outputs": [
    {
     "data": {
      "text/plain": "[['march 6', 310.0],\n ['march 7', 340.0],\n ['march 8', 380.0],\n ['march 9', 302.0],\n ['march 10', 297.0],\n ['march 11', 323.0]]"
     },
     "execution_count": 2,
     "metadata": {},
     "output_type": "execute_result"
    }
   ],
   "source": [
    "stock_prices"
   ],
   "metadata": {
    "collapsed": false,
    "ExecuteTime": {
     "end_time": "2024-02-27T03:03:49.823212Z",
     "start_time": "2024-02-27T03:03:49.810702Z"
    }
   },
   "id": "a67f35ceeafa1d75",
   "execution_count": 2
  },
  {
   "cell_type": "code",
   "outputs": [
    {
     "data": {
      "text/plain": "['march 6', 310.0]"
     },
     "execution_count": 4,
     "metadata": {},
     "output_type": "execute_result"
    }
   ],
   "source": [
    "stock_prices[0]"
   ],
   "metadata": {
    "collapsed": false,
    "ExecuteTime": {
     "end_time": "2024-02-27T03:06:49.600097Z",
     "start_time": "2024-02-27T03:06:49.579485Z"
    }
   },
   "id": "1072a978738bc470",
   "execution_count": 4
  },
  {
   "cell_type": "markdown",
   "source": [
    "Find stock prices on March 9"
   ],
   "metadata": {
    "collapsed": false
   },
   "id": "4a661a6fec19b5ea"
  },
  {
   "cell_type": "code",
   "outputs": [
    {
     "name": "stdout",
     "output_type": "stream",
     "text": [
      "302.0\n"
     ]
    }
   ],
   "source": [
    "for element in stock_prices:\n",
    "    if element[0] == 'march 9':\n",
    "        print(element[1])"
   ],
   "metadata": {
    "collapsed": false,
    "ExecuteTime": {
     "end_time": "2024-02-27T03:06:54.579220Z",
     "start_time": "2024-02-27T03:06:54.572896Z"
    }
   },
   "id": "3e6e3594fa7016b9",
   "execution_count": 5
  },
  {
   "cell_type": "markdown",
   "source": [
    "Complexity of search using a list is O(n)"
   ],
   "metadata": {
    "collapsed": false
   },
   "id": "c883eb3ecd7bcaf1"
  },
  {
   "cell_type": "markdown",
   "source": [
    "Process using python dictionary"
   ],
   "metadata": {
    "collapsed": false
   },
   "id": "c0cc85a891238145"
  },
  {
   "cell_type": "code",
   "outputs": [],
   "source": [
    "stock_prices = {}\n",
    "with open(\"stock_prices.csv\", \"r\") as f:\n",
    "    for line in f:\n",
    "        tokens = line.split(',')\n",
    "        day = tokens[0]\n",
    "        price = float(tokens[1])\n",
    "        stock_prices[day] = price"
   ],
   "metadata": {
    "collapsed": false,
    "ExecuteTime": {
     "end_time": "2024-02-27T03:06:57.955614Z",
     "start_time": "2024-02-27T03:06:57.946065Z"
    }
   },
   "id": "33c8f08090c81ff3",
   "execution_count": 6
  },
  {
   "cell_type": "code",
   "outputs": [
    {
     "data": {
      "text/plain": "{'march 6': 310.0,\n 'march 7': 340.0,\n 'march 8': 380.0,\n 'march 9': 302.0,\n 'march 10': 297.0,\n 'march 11': 323.0}"
     },
     "execution_count": 7,
     "metadata": {},
     "output_type": "execute_result"
    }
   ],
   "source": [
    "stock_prices"
   ],
   "metadata": {
    "collapsed": false,
    "ExecuteTime": {
     "end_time": "2024-02-27T03:06:58.782682Z",
     "start_time": "2024-02-27T03:06:58.746879Z"
    }
   },
   "id": "ed308c5bb588e52d",
   "execution_count": 7
  },
  {
   "cell_type": "markdown",
   "source": [
    "Find stock price on March 9"
   ],
   "metadata": {
    "collapsed": false
   },
   "id": "565e16de8cc38dc2"
  },
  {
   "cell_type": "code",
   "outputs": [
    {
     "data": {
      "text/plain": "302.0"
     },
     "execution_count": 8,
     "metadata": {},
     "output_type": "execute_result"
    }
   ],
   "source": [
    "stock_prices['march 9']"
   ],
   "metadata": {
    "collapsed": false,
    "ExecuteTime": {
     "end_time": "2024-02-27T03:07:00.324992Z",
     "start_time": "2024-02-27T03:07:00.315894Z"
    }
   },
   "id": "7fefa8aa790480bb",
   "execution_count": 8
  },
  {
   "cell_type": "markdown",
   "source": [
    "Complexity of search using dictionary is O(1)"
   ],
   "metadata": {
    "collapsed": false
   },
   "id": "fb98048234e60d2"
  },
  {
   "cell_type": "markdown",
   "source": [
    "Implement Hash Table"
   ],
   "metadata": {
    "collapsed": false
   },
   "id": "b1f3c0792efa76a0"
  },
  {
   "cell_type": "code",
   "outputs": [],
   "source": [
    "def get_hash(key):\n",
    "    h = 0\n",
    "    for char in key:\n",
    "        h += ord(char)\n",
    "    return h % 100"
   ],
   "metadata": {
    "collapsed": false,
    "ExecuteTime": {
     "end_time": "2024-02-27T03:07:03.644626Z",
     "start_time": "2024-02-27T03:07:03.634972Z"
    }
   },
   "id": "6e7ff8282ebf9955",
   "execution_count": 9
  },
  {
   "cell_type": "code",
   "outputs": [
    {
     "data": {
      "text/plain": "61"
     },
     "execution_count": 10,
     "metadata": {},
     "output_type": "execute_result"
    }
   ],
   "source": [
    "get_hash('march 28')"
   ],
   "metadata": {
    "collapsed": false,
    "ExecuteTime": {
     "end_time": "2024-02-27T03:07:05.520883Z",
     "start_time": "2024-02-27T03:07:05.487166Z"
    }
   },
   "id": "7b0234a10369c894",
   "execution_count": 10
  },
  {
   "cell_type": "code",
   "outputs": [],
   "source": [
    "class HashTable:\n",
    "    def __init__(self):\n",
    "        self.MAX = 100\n",
    "        self.arr = [None for i in range(self.MAX)]\n",
    "\n",
    "    def get_hash(self, key):\n",
    "        h = 0\n",
    "        for char in key:\n",
    "            h += ord(char)\n",
    "        return h % self.MAX\n",
    "\n",
    "    # def add(self, key, value):\n",
    "    #     h = self.get_hash(key) \n",
    "    #     self.arr[h] = value\n",
    "\n",
    "    def __setitem__(self, key, val):\n",
    "        h = self.get_hash(key)\n",
    "        self.arr[h] = val\n",
    "\n",
    "        # def get(self,key):\n",
    "\n",
    "    #     h = self.get_hash(key)\n",
    "    #     return self.arr[h]\n",
    "\n",
    "    def __getitem__(self, key):\n",
    "        h = self.get_hash(key)\n",
    "        return self.arr[h]\n",
    "    \n",
    "    def __delitem__(self, key):\n",
    "        h = self.get_hash(key)\n",
    "        self.arr[h] = None"
   ],
   "metadata": {
    "collapsed": false,
    "ExecuteTime": {
     "end_time": "2024-02-27T03:15:29.890137Z",
     "start_time": "2024-02-27T03:15:29.879288Z"
    }
   },
   "id": "5b741a79c2003090",
   "execution_count": 26
  },
  {
   "cell_type": "code",
   "outputs": [],
   "source": [
    "t = HashTable()\n",
    "t['march 6'] = 130\n",
    "t['march 1'] = 543\n",
    "t['dec 5'] = 53"
   ],
   "metadata": {
    "collapsed": false,
    "ExecuteTime": {
     "end_time": "2024-02-27T03:15:30.414958Z",
     "start_time": "2024-02-27T03:15:30.409067Z"
    }
   },
   "id": "beab8a0c5dd83c4a",
   "execution_count": 27
  },
  {
   "cell_type": "code",
   "outputs": [
    {
     "data": {
      "text/plain": "53"
     },
     "execution_count": 28,
     "metadata": {},
     "output_type": "execute_result"
    }
   ],
   "source": [
    "t['dec 5']"
   ],
   "metadata": {
    "collapsed": false,
    "ExecuteTime": {
     "end_time": "2024-02-27T03:15:31.544953Z",
     "start_time": "2024-02-27T03:15:31.530980Z"
    }
   },
   "id": "e86b9099eeb9c051",
   "execution_count": 28
  },
  {
   "cell_type": "code",
   "outputs": [
    {
     "data": {
      "text/plain": "130"
     },
     "execution_count": 29,
     "metadata": {},
     "output_type": "execute_result"
    }
   ],
   "source": [
    "t['march 6']"
   ],
   "metadata": {
    "collapsed": false,
    "ExecuteTime": {
     "end_time": "2024-02-27T03:15:32.142194Z",
     "start_time": "2024-02-27T03:15:32.126889Z"
    }
   },
   "id": "87a52e24d13e3ed5",
   "execution_count": 29
  },
  {
   "cell_type": "code",
   "outputs": [],
   "source": [
    "del t['march 6']"
   ],
   "metadata": {
    "collapsed": false,
    "ExecuteTime": {
     "end_time": "2024-02-27T03:15:32.737262Z",
     "start_time": "2024-02-27T03:15:32.728238Z"
    }
   },
   "id": "eea6530abdb40b33",
   "execution_count": 30
  },
  {
   "cell_type": "code",
   "outputs": [
    {
     "data": {
      "text/plain": "[None,\n None,\n None,\n None,\n 543,\n None,\n None,\n None,\n None,\n None,\n None,\n None,\n None,\n None,\n None,\n None,\n None,\n None,\n None,\n None,\n None,\n None,\n None,\n None,\n None,\n None,\n None,\n None,\n None,\n None,\n None,\n None,\n None,\n None,\n None,\n None,\n None,\n None,\n None,\n None,\n None,\n None,\n None,\n None,\n None,\n None,\n None,\n None,\n None,\n None,\n None,\n None,\n None,\n None,\n None,\n None,\n None,\n None,\n None,\n None,\n None,\n None,\n None,\n None,\n None,\n None,\n None,\n None,\n None,\n None,\n None,\n None,\n None,\n None,\n None,\n None,\n None,\n None,\n None,\n None,\n None,\n None,\n None,\n None,\n None,\n 53,\n None,\n None,\n None,\n None,\n None,\n None,\n None,\n None,\n None,\n None,\n None,\n None,\n None,\n None]"
     },
     "execution_count": 31,
     "metadata": {},
     "output_type": "execute_result"
    }
   ],
   "source": [
    "t.arr"
   ],
   "metadata": {
    "collapsed": false,
    "ExecuteTime": {
     "end_time": "2024-02-27T03:15:33.845083Z",
     "start_time": "2024-02-27T03:15:33.832251Z"
    }
   },
   "id": "2d940674c13bbd57",
   "execution_count": 31
  },
  {
   "cell_type": "code",
   "outputs": [],
   "source": [],
   "metadata": {
    "collapsed": false
   },
   "id": "9cd98d8605205776"
  }
 ],
 "metadata": {
  "kernelspec": {
   "display_name": "Python 3",
   "language": "python",
   "name": "python3"
  },
  "language_info": {
   "codemirror_mode": {
    "name": "ipython",
    "version": 2
   },
   "file_extension": ".py",
   "mimetype": "text/x-python",
   "name": "python",
   "nbconvert_exporter": "python",
   "pygments_lexer": "ipython2",
   "version": "2.7.6"
  }
 },
 "nbformat": 4,
 "nbformat_minor": 5
}

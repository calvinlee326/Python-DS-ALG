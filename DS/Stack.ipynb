{
 "cells": [
  {
   "cell_type": "markdown",
   "source": [
    "Last in First out(LIFO)\n",
    "Push/Pop elements O(1)\n",
    "Search elements by value O(n)"
   ],
   "metadata": {
    "collapsed": false
   },
   "id": "7c5eca569cb3a371"
  },
  {
   "cell_type": "markdown",
   "source": [
    "Use case:\n",
    "    1. Function calling in any programming language is managed using a stack\n",
    "    2. Undo(Ctrl+Z) functionality in any editor use stacks to track down last set of operations"
   ],
   "metadata": {
    "collapsed": false
   },
   "id": "7c1109e292b91ea1"
  },
  {
   "cell_type": "code",
   "execution_count": 1,
   "id": "initial_id",
   "metadata": {
    "collapsed": true,
    "ExecuteTime": {
     "end_time": "2024-02-27T05:00:09.508289Z",
     "start_time": "2024-02-27T05:00:09.493880Z"
    }
   },
   "outputs": [],
   "source": [
    "s = []\n",
    "s.append('https://www.youtube.com/')\n",
    "s.append('https://www.youtube.com/feed/history')\n",
    "s.append('https://www.youtube.com/playlist?list=WL')\n",
    "s.append('https://www.youtube.com/feed/subscriptions')"
   ]
  },
  {
   "cell_type": "code",
   "outputs": [
    {
     "data": {
      "text/plain": "'https://www.youtube.com/feed/subscriptions'"
     },
     "execution_count": 2,
     "metadata": {},
     "output_type": "execute_result"
    }
   ],
   "source": [
    "s[-1]"
   ],
   "metadata": {
    "collapsed": false,
    "ExecuteTime": {
     "end_time": "2024-02-27T05:00:09.520403Z",
     "start_time": "2024-02-27T05:00:09.504840Z"
    }
   },
   "id": "412f7ec804af04b9",
   "execution_count": 2
  },
  {
   "cell_type": "code",
   "outputs": [
    {
     "data": {
      "text/plain": "['https://www.youtube.com/',\n 'https://www.youtube.com/feed/history',\n 'https://www.youtube.com/playlist?list=WL',\n 'https://www.youtube.com/feed/subscriptions']"
     },
     "execution_count": 3,
     "metadata": {},
     "output_type": "execute_result"
    }
   ],
   "source": [
    "s"
   ],
   "metadata": {
    "collapsed": false,
    "ExecuteTime": {
     "end_time": "2024-02-27T05:00:09.550811Z",
     "start_time": "2024-02-27T05:00:09.513888Z"
    }
   },
   "id": "afb60a48b513964b",
   "execution_count": 3
  },
  {
   "cell_type": "code",
   "outputs": [
    {
     "data": {
      "text/plain": "'https://www.youtube.com/feed/subscriptions'"
     },
     "execution_count": 4,
     "metadata": {},
     "output_type": "execute_result"
    }
   ],
   "source": [
    "s.pop()"
   ],
   "metadata": {
    "collapsed": false,
    "ExecuteTime": {
     "end_time": "2024-02-27T05:00:09.552088Z",
     "start_time": "2024-02-27T05:00:09.522350Z"
    }
   },
   "id": "fe0b3e1f2064725d",
   "execution_count": 4
  },
  {
   "cell_type": "code",
   "outputs": [
    {
     "data": {
      "text/plain": "'https://www.youtube.com/playlist?list=WL'"
     },
     "execution_count": 5,
     "metadata": {},
     "output_type": "execute_result"
    }
   ],
   "source": [
    "s.pop()"
   ],
   "metadata": {
    "collapsed": false,
    "ExecuteTime": {
     "end_time": "2024-02-27T05:00:09.553021Z",
     "start_time": "2024-02-27T05:00:09.529217Z"
    }
   },
   "id": "c0c5ab15e1b59e04",
   "execution_count": 5
  },
  {
   "cell_type": "code",
   "outputs": [
    {
     "data": {
      "text/plain": "'https://www.youtube.com/feed/history'"
     },
     "execution_count": 6,
     "metadata": {},
     "output_type": "execute_result"
    }
   ],
   "source": [
    "s.pop()"
   ],
   "metadata": {
    "collapsed": false,
    "ExecuteTime": {
     "end_time": "2024-02-27T05:00:09.616527Z",
     "start_time": "2024-02-27T05:00:09.536866Z"
    }
   },
   "id": "eb3e11b9ef66aa37",
   "execution_count": 6
  },
  {
   "cell_type": "code",
   "outputs": [
    {
     "data": {
      "text/plain": "'https://www.youtube.com/'"
     },
     "execution_count": 7,
     "metadata": {},
     "output_type": "execute_result"
    }
   ],
   "source": [
    "s.pop()"
   ],
   "metadata": {
    "collapsed": false,
    "ExecuteTime": {
     "end_time": "2024-02-27T05:00:09.618164Z",
     "start_time": "2024-02-27T05:00:09.545986Z"
    }
   },
   "id": "9ef0a02aeb702c7c",
   "execution_count": 7
  },
  {
   "cell_type": "code",
   "outputs": [
    {
     "data": {
      "text/plain": "[]"
     },
     "execution_count": 8,
     "metadata": {},
     "output_type": "execute_result"
    }
   ],
   "source": [
    "s"
   ],
   "metadata": {
    "collapsed": false,
    "ExecuteTime": {
     "end_time": "2024-02-27T05:00:09.620711Z",
     "start_time": "2024-02-27T05:00:09.555969Z"
    }
   },
   "id": "b6a5ae84e7833696",
   "execution_count": 8
  },
  {
   "cell_type": "code",
   "outputs": [],
   "source": [
    "from collections import deque\n",
    "stack = deque()"
   ],
   "metadata": {
    "collapsed": false,
    "ExecuteTime": {
     "end_time": "2024-02-27T05:05:16.354332Z",
     "start_time": "2024-02-27T05:05:16.339199Z"
    }
   },
   "id": "32ed6e76beb37348",
   "execution_count": 14
  },
  {
   "cell_type": "code",
   "outputs": [
    {
     "data": {
      "text/plain": "['__add__',\n '__bool__',\n '__class__',\n '__class_getitem__',\n '__contains__',\n '__copy__',\n '__delattr__',\n '__delitem__',\n '__dir__',\n '__doc__',\n '__eq__',\n '__format__',\n '__ge__',\n '__getattribute__',\n '__getitem__',\n '__gt__',\n '__hash__',\n '__iadd__',\n '__imul__',\n '__init__',\n '__init_subclass__',\n '__iter__',\n '__le__',\n '__len__',\n '__lt__',\n '__mul__',\n '__ne__',\n '__new__',\n '__reduce__',\n '__reduce_ex__',\n '__repr__',\n '__reversed__',\n '__rmul__',\n '__setattr__',\n '__setitem__',\n '__sizeof__',\n '__str__',\n '__subclasshook__',\n 'append',\n 'appendleft',\n 'clear',\n 'copy',\n 'count',\n 'extend',\n 'extendleft',\n 'index',\n 'insert',\n 'maxlen',\n 'pop',\n 'popleft',\n 'remove',\n 'reverse',\n 'rotate']"
     },
     "execution_count": 15,
     "metadata": {},
     "output_type": "execute_result"
    }
   ],
   "source": [
    "dir(stack)"
   ],
   "metadata": {
    "collapsed": false,
    "ExecuteTime": {
     "end_time": "2024-02-27T05:05:16.960648Z",
     "start_time": "2024-02-27T05:05:16.944710Z"
    }
   },
   "id": "478d6bc93af99c29",
   "execution_count": 15
  },
  {
   "cell_type": "code",
   "outputs": [],
   "source": [
    "stack.append(\"https://www.youtube.com/\")"
   ],
   "metadata": {
    "collapsed": false,
    "ExecuteTime": {
     "end_time": "2024-02-27T05:05:18.255785Z",
     "start_time": "2024-02-27T05:05:18.176199Z"
    }
   },
   "id": "f0624e7e07230b9a",
   "execution_count": 16
  },
  {
   "cell_type": "code",
   "outputs": [
    {
     "data": {
      "text/plain": "deque(['https://www.youtube.com/',\n       'https://www.youtube.com/feed/history',\n       'https://www.youtube.com/playlist?list=WL',\n       'https://www.youtube.com/feed/subscriptions'])"
     },
     "execution_count": 17,
     "metadata": {},
     "output_type": "execute_result"
    }
   ],
   "source": [
    "stack.append(\"https://www.youtube.com/feed/history\")\n",
    "stack.append(\"https://www.youtube.com/playlist?list=WL\")\n",
    "stack.append(\"https://www.youtube.com/feed/subscriptions\")\n",
    "stack"
   ],
   "metadata": {
    "collapsed": false,
    "ExecuteTime": {
     "end_time": "2024-02-27T05:06:07.896374Z",
     "start_time": "2024-02-27T05:06:07.887448Z"
    }
   },
   "id": "d05e3ef97bf3d400",
   "execution_count": 17
  },
  {
   "cell_type": "code",
   "outputs": [
    {
     "data": {
      "text/plain": "'https://www.youtube.com/feed/subscriptions'"
     },
     "execution_count": 18,
     "metadata": {},
     "output_type": "execute_result"
    }
   ],
   "source": [
    "stack.pop()"
   ],
   "metadata": {
    "collapsed": false,
    "ExecuteTime": {
     "end_time": "2024-02-27T05:07:21.849776Z",
     "start_time": "2024-02-27T05:07:21.841368Z"
    }
   },
   "id": "f538af0880e4bed0",
   "execution_count": 18
  },
  {
   "cell_type": "code",
   "outputs": [
    {
     "data": {
      "text/plain": "deque(['https://www.youtube.com/',\n       'https://www.youtube.com/feed/history',\n       'https://www.youtube.com/playlist?list=WL'])"
     },
     "execution_count": 19,
     "metadata": {},
     "output_type": "execute_result"
    }
   ],
   "source": [
    "stack"
   ],
   "metadata": {
    "collapsed": false,
    "ExecuteTime": {
     "end_time": "2024-02-27T05:07:29.501648Z",
     "start_time": "2024-02-27T05:07:29.493763Z"
    }
   },
   "id": "3be8d7b793fbd97f",
   "execution_count": 19
  },
  {
   "cell_type": "markdown",
   "source": [
    "Implement Stack class using a deque"
   ],
   "metadata": {
    "collapsed": false
   },
   "id": "3993da0c8702534c"
  },
  {
   "cell_type": "code",
   "outputs": [],
   "source": [
    "class Stack:\n",
    "    def __init__(self):\n",
    "        self.container = deque()\n",
    "    \n",
    "    def push(self,val):\n",
    "        self.container.append(val)\n",
    "        \n",
    "    def pop(self):\n",
    "        return self.container.pop()\n",
    "    \n",
    "    def peek(self):\n",
    "        return  self.container[-1]\n",
    "    \n",
    "    def is_empty(self):\n",
    "        return len(self.container)==0\n",
    "    \n",
    "    def size(self):\n",
    "        return len(self.container)"
   ],
   "metadata": {
    "collapsed": false,
    "ExecuteTime": {
     "end_time": "2024-02-27T05:09:09.052237Z",
     "start_time": "2024-02-27T05:09:09.029449Z"
    }
   },
   "id": "823909af6208ccf",
   "execution_count": 21
  },
  {
   "cell_type": "code",
   "outputs": [],
   "source": [
    "s = Stack()\n",
    "s.push(5)"
   ],
   "metadata": {
    "collapsed": false,
    "ExecuteTime": {
     "end_time": "2024-02-27T05:09:11.591441Z",
     "start_time": "2024-02-27T05:09:11.581524Z"
    }
   },
   "id": "c1f254f18c761e46",
   "execution_count": 22
  },
  {
   "cell_type": "code",
   "outputs": [
    {
     "data": {
      "text/plain": "5"
     },
     "execution_count": 23,
     "metadata": {},
     "output_type": "execute_result"
    }
   ],
   "source": [
    "s.peek()"
   ],
   "metadata": {
    "collapsed": false,
    "ExecuteTime": {
     "end_time": "2024-02-27T05:09:28.015732Z",
     "start_time": "2024-02-27T05:09:28.007295Z"
    }
   },
   "id": "8060fa3267311f55",
   "execution_count": 23
  },
  {
   "cell_type": "code",
   "outputs": [
    {
     "data": {
      "text/plain": "5"
     },
     "execution_count": 24,
     "metadata": {},
     "output_type": "execute_result"
    }
   ],
   "source": [
    "s.pop()"
   ],
   "metadata": {
    "collapsed": false,
    "ExecuteTime": {
     "end_time": "2024-02-27T05:09:44.740812Z",
     "start_time": "2024-02-27T05:09:44.733802Z"
    }
   },
   "id": "72720f36f739633d",
   "execution_count": 24
  },
  {
   "cell_type": "code",
   "outputs": [
    {
     "ename": "IndexError",
     "evalue": "pop from an empty deque",
     "output_type": "error",
     "traceback": [
      "\u001B[0;31m---------------------------------------------------------------------------\u001B[0m",
      "\u001B[0;31mIndexError\u001B[0m                                Traceback (most recent call last)",
      "Cell \u001B[0;32mIn[25], line 1\u001B[0m\n\u001B[0;32m----> 1\u001B[0m \u001B[43ms\u001B[49m\u001B[38;5;241;43m.\u001B[39;49m\u001B[43mpop\u001B[49m\u001B[43m(\u001B[49m\u001B[43m)\u001B[49m\n",
      "Cell \u001B[0;32mIn[21], line 9\u001B[0m, in \u001B[0;36mStack.pop\u001B[0;34m(self)\u001B[0m\n\u001B[1;32m      8\u001B[0m \u001B[38;5;28;01mdef\u001B[39;00m \u001B[38;5;21mpop\u001B[39m(\u001B[38;5;28mself\u001B[39m):\n\u001B[0;32m----> 9\u001B[0m     \u001B[38;5;28;01mreturn\u001B[39;00m \u001B[38;5;28;43mself\u001B[39;49m\u001B[38;5;241;43m.\u001B[39;49m\u001B[43mcontainer\u001B[49m\u001B[38;5;241;43m.\u001B[39;49m\u001B[43mpop\u001B[49m\u001B[43m(\u001B[49m\u001B[43m)\u001B[49m\n",
      "\u001B[0;31mIndexError\u001B[0m: pop from an empty deque"
     ]
    }
   ],
   "source": [
    "s.pop()"
   ],
   "metadata": {
    "collapsed": false,
    "ExecuteTime": {
     "end_time": "2024-02-27T05:09:59.073375Z",
     "start_time": "2024-02-27T05:09:59.046743Z"
    }
   },
   "id": "9d394d51519d08ef",
   "execution_count": 25
  },
  {
   "cell_type": "code",
   "outputs": [
    {
     "data": {
      "text/plain": "True"
     },
     "execution_count": 26,
     "metadata": {},
     "output_type": "execute_result"
    }
   ],
   "source": [
    "s.is_empty()"
   ],
   "metadata": {
    "collapsed": false,
    "ExecuteTime": {
     "end_time": "2024-02-27T05:10:22.316338Z",
     "start_time": "2024-02-27T05:10:22.304948Z"
    }
   },
   "id": "586bc2af7fe1c959",
   "execution_count": 26
  },
  {
   "cell_type": "code",
   "outputs": [],
   "source": [
    "s.push(67)\n",
    "s.push(33)\n",
    "s.push(3)"
   ],
   "metadata": {
    "collapsed": false,
    "ExecuteTime": {
     "end_time": "2024-02-27T05:11:01.670420Z",
     "start_time": "2024-02-27T05:11:01.660074Z"
    }
   },
   "id": "5b1d20355db2f985",
   "execution_count": 27
  },
  {
   "cell_type": "code",
   "outputs": [
    {
     "data": {
      "text/plain": "3"
     },
     "execution_count": 28,
     "metadata": {},
     "output_type": "execute_result"
    }
   ],
   "source": [
    "s.size()"
   ],
   "metadata": {
    "collapsed": false,
    "ExecuteTime": {
     "end_time": "2024-02-27T05:11:04.042481Z",
     "start_time": "2024-02-27T05:11:04.027669Z"
    }
   },
   "id": "ca5444be3c10ab8d",
   "execution_count": 28
  }
 ],
 "metadata": {
  "kernelspec": {
   "display_name": "Python 3",
   "language": "python",
   "name": "python3"
  },
  "language_info": {
   "codemirror_mode": {
    "name": "ipython",
    "version": 2
   },
   "file_extension": ".py",
   "mimetype": "text/x-python",
   "name": "python",
   "nbconvert_exporter": "python",
   "pygments_lexer": "ipython2",
   "version": "2.7.6"
  }
 },
 "nbformat": 4,
 "nbformat_minor": 5
}

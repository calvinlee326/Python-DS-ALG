{
 "cells": [
  {
   "cell_type": "markdown",
   "source": [
    "1. nyc_weather.csv contains new york city weather for first few days in the month of January. Write a program that can answer following,\n",
    "What was the average temperature in first week of Jan?\n",
    "What was the maximum temperature in first 10 days of Jan?\n",
    "Figure out data structure that is best for this problem"
   ],
   "metadata": {
    "collapsed": false
   },
   "id": "8adf659237073c1b"
  },
  {
   "cell_type": "code",
   "outputs": [
    {
     "name": "stdout",
     "output_type": "stream",
     "text": [
      "Invalid temperature, Ignore row\n"
     ]
    }
   ],
   "source": [
    "arr = []\n",
    "with open(\"nyc_weather.csv\", \"r\") as f:\n",
    "    for line in f:\n",
    "        tokens = line.split(\",\")\n",
    "        try:\n",
    "            temperature = int(tokens[1])\n",
    "            arr.append(temperature)\n",
    "        except:\n",
    "            print(\"Invalid temperature, Ignore row\")"
   ],
   "metadata": {
    "collapsed": false,
    "ExecuteTime": {
     "end_time": "2024-02-27T04:12:21.169352Z",
     "start_time": "2024-02-27T04:12:21.160290Z"
    }
   },
   "id": "9e7e33ee7d73b73e",
   "execution_count": 1
  },
  {
   "cell_type": "code",
   "outputs": [
    {
     "data": {
      "text/plain": "[27, 31, 23, 34, 37, 38, 29, 30, 35, 30]"
     },
     "execution_count": 2,
     "metadata": {},
     "output_type": "execute_result"
    }
   ],
   "source": [
    "arr"
   ],
   "metadata": {
    "collapsed": false,
    "ExecuteTime": {
     "end_time": "2024-02-27T04:12:32.396175Z",
     "start_time": "2024-02-27T04:12:32.384915Z"
    }
   },
   "id": "9fc5e92717c760a5",
   "execution_count": 2
  },
  {
   "cell_type": "markdown",
   "source": [
    "What was the average temperature in first week of Jan?"
   ],
   "metadata": {
    "collapsed": false
   },
   "id": "77937032c66017a7"
  },
  {
   "cell_type": "code",
   "outputs": [
    {
     "data": {
      "text/plain": "31.285714285714285"
     },
     "execution_count": 3,
     "metadata": {},
     "output_type": "execute_result"
    }
   ],
   "source": [
    "sum(arr[0:7])/len(arr[0:7])"
   ],
   "metadata": {
    "collapsed": false,
    "ExecuteTime": {
     "end_time": "2024-02-27T04:14:41.373546Z",
     "start_time": "2024-02-27T04:14:41.339741Z"
    }
   },
   "id": "9195ef9f2a733645",
   "execution_count": 3
  },
  {
   "cell_type": "code",
   "outputs": [
    {
     "data": {
      "text/plain": "[27, 31, 23, 34, 37, 38, 29, 30, 35, 30]"
     },
     "execution_count": 5,
     "metadata": {},
     "output_type": "execute_result"
    }
   ],
   "source": [
    "arr[0:10]"
   ],
   "metadata": {
    "collapsed": false,
    "ExecuteTime": {
     "end_time": "2024-02-27T04:15:24.635627Z",
     "start_time": "2024-02-27T04:15:24.610663Z"
    }
   },
   "id": "715960b8be19e766",
   "execution_count": 5
  },
  {
   "cell_type": "markdown",
   "source": [
    "What was the maximum temperature in first 10 days of Jan?"
   ],
   "metadata": {
    "collapsed": false
   },
   "id": "72459d5b50ae0dd8"
  },
  {
   "cell_type": "code",
   "outputs": [
    {
     "data": {
      "text/plain": "38"
     },
     "execution_count": 6,
     "metadata": {},
     "output_type": "execute_result"
    }
   ],
   "source": [
    "max(arr[0:10])"
   ],
   "metadata": {
    "collapsed": false,
    "ExecuteTime": {
     "end_time": "2024-02-27T04:16:23.787549Z",
     "start_time": "2024-02-27T04:16:23.779057Z"
    }
   },
   "id": "8884e484403a3422",
   "execution_count": 6
  },
  {
   "cell_type": "markdown",
   "source": [
    "What was the temperature on Jan 9?"
   ],
   "metadata": {
    "collapsed": false
   },
   "id": "4098457fbf83231d"
  },
  {
   "cell_type": "code",
   "outputs": [
    {
     "name": "stdout",
     "output_type": "stream",
     "text": [
      "Invalid temperature, Ignore row\n"
     ]
    }
   ],
   "source": [
    "weather_dict = {}\n",
    "with open(\"nyc_weather.csv\", \"r\") as f:\n",
    "    for line in f:\n",
    "        tokens = line.split(\",\")\n",
    "        day = tokens[0]\n",
    "        try:\n",
    "            temperature = int(tokens[1])\n",
    "            weather_dict[day] = temperature\n",
    "        except:\n",
    "            print(\"Invalid temperature, Ignore row\")"
   ],
   "metadata": {
    "collapsed": false,
    "ExecuteTime": {
     "end_time": "2024-02-27T04:19:36.999585Z",
     "start_time": "2024-02-27T04:19:36.986985Z"
    }
   },
   "id": "c2ad2818d62d15bf",
   "execution_count": 7
  },
  {
   "cell_type": "code",
   "outputs": [
    {
     "data": {
      "text/plain": "{'Jan 1': 27,\n 'Jan 2': 31,\n 'Jan 3': 23,\n 'Jan 4': 34,\n 'Jan 5': 37,\n 'Jan 6': 38,\n 'Jan 7': 29,\n 'Jan 8': 30,\n 'Jan 9': 35,\n 'Jan 10': 30}"
     },
     "execution_count": 8,
     "metadata": {},
     "output_type": "execute_result"
    }
   ],
   "source": [
    "weather_dict"
   ],
   "metadata": {
    "collapsed": false,
    "ExecuteTime": {
     "end_time": "2024-02-27T04:19:56.699467Z",
     "start_time": "2024-02-27T04:19:56.671130Z"
    }
   },
   "id": "1fd0906479706d0f",
   "execution_count": 8
  },
  {
   "cell_type": "code",
   "outputs": [
    {
     "data": {
      "text/plain": "35"
     },
     "execution_count": 9,
     "metadata": {},
     "output_type": "execute_result"
    }
   ],
   "source": [
    "weather_dict[\"Jan 9\"]"
   ],
   "metadata": {
    "collapsed": false,
    "ExecuteTime": {
     "end_time": "2024-02-27T04:20:38.846993Z",
     "start_time": "2024-02-27T04:20:38.834233Z"
    }
   },
   "id": "323924e93a7d385a",
   "execution_count": 9
  },
  {
   "cell_type": "markdown",
   "source": [
    "What was the temperature on Jan 4?"
   ],
   "metadata": {
    "collapsed": false
   },
   "id": "fe8447a27dfbac0a"
  },
  {
   "cell_type": "code",
   "outputs": [
    {
     "data": {
      "text/plain": "34"
     },
     "execution_count": 10,
     "metadata": {},
     "output_type": "execute_result"
    }
   ],
   "source": [
    "weather_dict[\"Jan 4\"]"
   ],
   "metadata": {
    "collapsed": false,
    "ExecuteTime": {
     "end_time": "2024-02-27T04:20:55.121211Z",
     "start_time": "2024-02-27T04:20:55.108778Z"
    }
   },
   "id": "56e85c9b8ccded9a",
   "execution_count": 10
  },
  {
   "cell_type": "code",
   "outputs": [],
   "source": [],
   "metadata": {
    "collapsed": false
   },
   "id": "e626117a00722e10"
  }
 ],
 "metadata": {
  "kernelspec": {
   "display_name": "Python 3",
   "language": "python",
   "name": "python3"
  },
  "language_info": {
   "codemirror_mode": {
    "name": "ipython",
    "version": 2
   },
   "file_extension": ".py",
   "mimetype": "text/x-python",
   "name": "python",
   "nbconvert_exporter": "python",
   "pygments_lexer": "ipython2",
   "version": "2.7.6"
  }
 },
 "nbformat": 4,
 "nbformat_minor": 5
}

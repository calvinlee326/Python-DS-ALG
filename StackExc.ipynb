{
 "cells": [
  {
   "cell_type": "markdown",
   "source": [
    "1. Write a function in python that can reverse a string using stack data structure. Use Stack class from the tutorial.\n",
    "reverse_string(\"We will conquere COVID-19\") should return \"91-DIVOC ereuqnoc lliw eW\"\n"
   ],
   "metadata": {
    "collapsed": false
   },
   "id": "d2c960835a72927f"
  },
  {
   "cell_type": "code",
   "execution_count": 4,
   "id": "initial_id",
   "metadata": {
    "collapsed": true,
    "ExecuteTime": {
     "end_time": "2024-02-27T06:05:11.520716Z",
     "start_time": "2024-02-27T06:05:11.515352Z"
    }
   },
   "outputs": [],
   "source": [
    "from collections import deque\n",
    "\n",
    "sen = deque()"
   ]
  },
  {
   "cell_type": "code",
   "outputs": [],
   "source": [
    "class Stack:\n",
    "    def __init__(self):\n",
    "        self.container = deque()\n",
    "\n",
    "    def push(self, val):\n",
    "        self.container.append(val)\n",
    "\n",
    "    def pop(self):\n",
    "        return self.container.pop()\n",
    "\n",
    "    def peek(self):\n",
    "        return self.container[-1]\n",
    "\n",
    "    def is_empty(self):\n",
    "        return len(self.container) == 0\n",
    "\n",
    "    def size(self):\n",
    "        return len(self.container)"
   ],
   "metadata": {
    "collapsed": false,
    "ExecuteTime": {
     "end_time": "2024-02-27T06:05:11.544413Z",
     "start_time": "2024-02-27T06:05:11.527759Z"
    }
   },
   "id": "6331f3bec6383307",
   "execution_count": 5
  },
  {
   "cell_type": "code",
   "outputs": [],
   "source": [
    "def reverse_string(s):\n",
    "    stack = Stack()\n",
    "\n",
    "    for ch in s:\n",
    "        stack.push(ch)\n",
    "\n",
    "    rstr = ' '\n",
    "    while stack.size() != 0:\n",
    "        rstr += stack.pop()\n",
    "\n",
    "    return rstr"
   ],
   "metadata": {
    "collapsed": false,
    "ExecuteTime": {
     "end_time": "2024-02-27T06:05:11.544708Z",
     "start_time": "2024-02-27T06:05:11.535485Z"
    }
   },
   "id": "95c23a2207af2e17",
   "execution_count": 6
  },
  {
   "cell_type": "code",
   "outputs": [
    {
     "name": "stdout",
     "output_type": "stream",
     "text": [
      " 91-DIVOC ereuqnoc lliw eW\n"
     ]
    }
   ],
   "source": [
    "if __name__ == \"__main__\":\n",
    "    print(reverse_string(\"We will conquere COVID-19\"))"
   ],
   "metadata": {
    "collapsed": false,
    "ExecuteTime": {
     "end_time": "2024-02-27T06:05:11.550998Z",
     "start_time": "2024-02-27T06:05:11.542526Z"
    }
   },
   "id": "c52f5a50f9c197b6",
   "execution_count": 7
  },
  {
   "cell_type": "markdown",
   "source": [
    "2. Write a function in python that checks if paranthesis in the string are balanced or not. Possible parantheses are \"{}',\"()\" or \"[]\". Use Stack class from the tutorial.\n"
   ],
   "metadata": {
    "collapsed": false
   },
   "id": "63a1c4f32dd4d0d9"
  },
  {
   "cell_type": "markdown",
   "source": [
    "is_balanced(\"({a+b})\")     --> True\n",
    "is_balanced(\"))((a+b}{\")   --> False\n",
    "is_balanced(\"((a+b))\")     --> True\n",
    "is_balanced(\"))\")          --> False\n",
    "is_balanced(\"[a+b]*(x+2y)*{gg+kk}\") --> True"
   ],
   "metadata": {
    "collapsed": false
   },
   "id": "c145fa4f8ae77c01"
  },
  {
   "cell_type": "code",
   "outputs": [],
   "source": [
    "from _collections import deque"
   ],
   "metadata": {
    "collapsed": false,
    "ExecuteTime": {
     "end_time": "2024-02-27T06:07:59.845062Z",
     "start_time": "2024-02-27T06:07:59.841085Z"
    }
   },
   "id": "32cc4f259778e89e",
   "execution_count": 8
  },
  {
   "cell_type": "code",
   "outputs": [],
   "source": [
    "class Stack:\n",
    "    def __init__(self):\n",
    "        self.container = deque()\n",
    "\n",
    "    def push(self, val):\n",
    "        self.container.append(val)\n",
    "\n",
    "    def pop(self):\n",
    "        return self.container.pop()\n",
    "\n",
    "    def peek(self):\n",
    "        return self.container[-1]\n",
    "\n",
    "    def is_empty(self):\n",
    "        return len(self.container) == 0\n",
    "\n",
    "    def size(self):\n",
    "        return len(self.container)"
   ],
   "metadata": {
    "collapsed": false,
    "ExecuteTime": {
     "end_time": "2024-02-27T06:11:20.422643Z",
     "start_time": "2024-02-27T06:11:20.414553Z"
    }
   },
   "id": "f874ff5a82087882",
   "execution_count": 9
  },
  {
   "cell_type": "code",
   "outputs": [],
   "source": [
    "def is_matched(ch1, ch2):\n",
    "    match_dict = {\n",
    "        ')': '(',\n",
    "        ']': '[',\n",
    "        '}': '{'\n",
    "    }\n",
    "    return match_dict[ch1] == ch2"
   ],
   "metadata": {
    "collapsed": false,
    "ExecuteTime": {
     "end_time": "2024-02-27T06:13:41.978395Z",
     "start_time": "2024-02-27T06:13:41.973120Z"
    }
   },
   "id": "89539b9585e45202",
   "execution_count": 10
  },
  {
   "cell_type": "code",
   "outputs": [],
   "source": [
    "def is_balanced(s):\n",
    "    stack = Stack()\n",
    "    for ch in s:\n",
    "        if ch=='(' or ch=='{' or ch == '[':\n",
    "            stack.push(ch)\n",
    "        if ch==')' or ch=='}' or ch == ']':\n",
    "            if stack.size()==0:\n",
    "                return False\n",
    "            if not is_matched(ch,stack.pop()):\n",
    "                return False\n",
    "\n",
    "    return stack.size()==0"
   ],
   "metadata": {
    "collapsed": false,
    "ExecuteTime": {
     "end_time": "2024-02-27T06:15:21.977733Z",
     "start_time": "2024-02-27T06:15:21.971645Z"
    }
   },
   "id": "3d865095c08fe21",
   "execution_count": 11
  },
  {
   "cell_type": "code",
   "outputs": [
    {
     "name": "stdout",
     "output_type": "stream",
     "text": [
      "True\n",
      "False\n",
      "True\n",
      "True\n",
      "False\n",
      "True\n"
     ]
    }
   ],
   "source": [
    "if __name__ == '__main__':\n",
    "    print(is_balanced(\"({a+b})\"))\n",
    "    print(is_balanced(\"))((a+b}{\"))\n",
    "    print(is_balanced(\"((a+b))\"))\n",
    "    print(is_balanced(\"((a+g))\"))\n",
    "    print(is_balanced(\"))\"))\n",
    "    print(is_balanced(\"[a+b]*(x+2y)*{gg+kk}\"))"
   ],
   "metadata": {
    "collapsed": false,
    "ExecuteTime": {
     "end_time": "2024-02-27T06:15:35.119314Z",
     "start_time": "2024-02-27T06:15:35.114524Z"
    }
   },
   "id": "1a0d163ee3f226c9",
   "execution_count": 12
  }
 ],
 "metadata": {
  "kernelspec": {
   "display_name": "Python 3",
   "language": "python",
   "name": "python3"
  },
  "language_info": {
   "codemirror_mode": {
    "name": "ipython",
    "version": 2
   },
   "file_extension": ".py",
   "mimetype": "text/x-python",
   "name": "python",
   "nbconvert_exporter": "python",
   "pygments_lexer": "ipython2",
   "version": "2.7.6"
  }
 },
 "nbformat": 4,
 "nbformat_minor": 5
}

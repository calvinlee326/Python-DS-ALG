{
 "cells": [
  {
   "cell_type": "markdown",
   "source": [
    "First In First Out: FIFO"
   ],
   "metadata": {
    "collapsed": false
   },
   "id": "41032e2bd57094b2"
  },
  {
   "cell_type": "code",
   "execution_count": 1,
   "id": "initial_id",
   "metadata": {
    "collapsed": true,
    "ExecuteTime": {
     "end_time": "2024-02-27T06:37:49.282751Z",
     "start_time": "2024-02-27T06:37:49.277388Z"
    }
   },
   "outputs": [],
   "source": [
    "stock_price_queue = []"
   ]
  },
  {
   "cell_type": "code",
   "outputs": [],
   "source": [
    "stock_price_queue.insert(0, 131.10)\n",
    "stock_price_queue.insert(0, 132.30)\n",
    "stock_price_queue.insert(0, 134)"
   ],
   "metadata": {
    "collapsed": false,
    "ExecuteTime": {
     "end_time": "2024-02-27T06:38:56.958545Z",
     "start_time": "2024-02-27T06:38:56.902278Z"
    }
   },
   "id": "d9896ae761bf8840",
   "execution_count": 2
  },
  {
   "cell_type": "code",
   "outputs": [
    {
     "data": {
      "text/plain": "[134, 132.3, 131.1]"
     },
     "execution_count": 3,
     "metadata": {},
     "output_type": "execute_result"
    }
   ],
   "source": [
    "stock_price_queue"
   ],
   "metadata": {
    "collapsed": false,
    "ExecuteTime": {
     "end_time": "2024-02-27T06:38:58.218140Z",
     "start_time": "2024-02-27T06:38:58.206473Z"
    }
   },
   "id": "8cbc888c0a741c66",
   "execution_count": 3
  },
  {
   "cell_type": "code",
   "outputs": [
    {
     "data": {
      "text/plain": "131.1"
     },
     "execution_count": 4,
     "metadata": {},
     "output_type": "execute_result"
    }
   ],
   "source": [
    "stock_price_queue.pop()"
   ],
   "metadata": {
    "collapsed": false,
    "ExecuteTime": {
     "end_time": "2024-02-27T06:39:41.958283Z",
     "start_time": "2024-02-27T06:39:41.945663Z"
    }
   },
   "id": "3709490e1aed070a",
   "execution_count": 4
  },
  {
   "cell_type": "code",
   "outputs": [
    {
     "data": {
      "text/plain": "132.3"
     },
     "execution_count": 5,
     "metadata": {},
     "output_type": "execute_result"
    }
   ],
   "source": [
    "stock_price_queue.pop()"
   ],
   "metadata": {
    "collapsed": false,
    "ExecuteTime": {
     "end_time": "2024-02-27T06:40:05.863229Z",
     "start_time": "2024-02-27T06:40:05.851985Z"
    }
   },
   "id": "1e20ba643a9aeff0",
   "execution_count": 5
  },
  {
   "cell_type": "code",
   "outputs": [
    {
     "data": {
      "text/plain": "134"
     },
     "execution_count": 6,
     "metadata": {},
     "output_type": "execute_result"
    }
   ],
   "source": [
    "stock_price_queue.pop()"
   ],
   "metadata": {
    "collapsed": false,
    "ExecuteTime": {
     "end_time": "2024-02-27T06:40:17.561839Z",
     "start_time": "2024-02-27T06:40:17.551972Z"
    }
   },
   "id": "f59977bbd7006056",
   "execution_count": 6
  },
  {
   "cell_type": "code",
   "outputs": [],
   "source": [
    "from collections import deque\n",
    "q = deque()"
   ],
   "metadata": {
    "collapsed": false,
    "ExecuteTime": {
     "end_time": "2024-02-27T06:41:22.269122Z",
     "start_time": "2024-02-27T06:41:22.260567Z"
    }
   },
   "id": "9cc9197a75a6b1e9",
   "execution_count": 7
  },
  {
   "cell_type": "code",
   "outputs": [],
   "source": [
    "q.appendleft(5)\n",
    "q.appendleft(6)\n",
    "q.appendleft(211)"
   ],
   "metadata": {
    "collapsed": false,
    "ExecuteTime": {
     "end_time": "2024-02-27T06:42:25.039643Z",
     "start_time": "2024-02-27T06:42:25.034568Z"
    }
   },
   "id": "476e8004c6d5b54a",
   "execution_count": 8
  },
  {
   "cell_type": "code",
   "outputs": [
    {
     "data": {
      "text/plain": "5"
     },
     "execution_count": 9,
     "metadata": {},
     "output_type": "execute_result"
    }
   ],
   "source": [
    "q.pop()"
   ],
   "metadata": {
    "collapsed": false,
    "ExecuteTime": {
     "end_time": "2024-02-27T06:42:26.619010Z",
     "start_time": "2024-02-27T06:42:26.608063Z"
    }
   },
   "id": "de89c1655f46153c",
   "execution_count": 9
  },
  {
   "cell_type": "code",
   "outputs": [
    {
     "data": {
      "text/plain": "6"
     },
     "execution_count": 10,
     "metadata": {},
     "output_type": "execute_result"
    }
   ],
   "source": [
    "q.pop()"
   ],
   "metadata": {
    "collapsed": false,
    "ExecuteTime": {
     "end_time": "2024-02-27T06:42:37.607562Z",
     "start_time": "2024-02-27T06:42:37.600242Z"
    }
   },
   "id": "c76ab65fdb28a8d4",
   "execution_count": 10
  },
  {
   "cell_type": "code",
   "outputs": [
    {
     "data": {
      "text/plain": "211"
     },
     "execution_count": 11,
     "metadata": {},
     "output_type": "execute_result"
    }
   ],
   "source": [
    "q.pop()"
   ],
   "metadata": {
    "collapsed": false,
    "ExecuteTime": {
     "end_time": "2024-02-27T06:42:43.512234Z",
     "start_time": "2024-02-27T06:42:43.500365Z"
    }
   },
   "id": "26d91be44a401fa",
   "execution_count": 11
  },
  {
   "cell_type": "code",
   "outputs": [],
   "source": [
    "from collections import deque\n",
    "\n",
    "class Queue:\n",
    "    \n",
    "    def __init__(self):\n",
    "        self.buffer = deque()\n",
    "    \n",
    "    def enqueue(self, val):\n",
    "        self.buffer.appendleft(val)\n",
    "    \n",
    "    def dequeue(self):\n",
    "        return self.buffer.pop()\n",
    "    \n",
    "    def is_empty(self):\n",
    "        return len(self.buffer)==0\n",
    "    \n",
    "    def size(self):\n",
    "        return len(self.buffer)"
   ],
   "metadata": {
    "collapsed": false,
    "ExecuteTime": {
     "end_time": "2024-02-27T06:45:25.921975Z",
     "start_time": "2024-02-27T06:45:25.913041Z"
    }
   },
   "id": "d5adbad834f44ebc",
   "execution_count": 12
  },
  {
   "cell_type": "code",
   "outputs": [],
   "source": [
    "pq = Queue()\n",
    "\n",
    "pq.enqueue({\n",
    "    'company':'Wal Mart',\n",
    "    'timestamp':'15 Feb, 11.01 AM',\n",
    "    'price':131.10    \n",
    "})\n",
    "pq.enqueue({\n",
    "    'company':'Wal Mart',\n",
    "    'timestamp':'15 Feb, 11.02 AM',\n",
    "    'price':132  \n",
    "})\n",
    "pq.enqueue({\n",
    "    'company':'Wal Mart',\n",
    "    'timestamp':'15 Feb, 11.03 AM',\n",
    "    'price':135    \n",
    "})"
   ],
   "metadata": {
    "collapsed": false,
    "ExecuteTime": {
     "end_time": "2024-02-27T06:49:45.626029Z",
     "start_time": "2024-02-27T06:49:45.615324Z"
    }
   },
   "id": "8f570ce66bce694a",
   "execution_count": 19
  },
  {
   "cell_type": "code",
   "outputs": [
    {
     "data": {
      "text/plain": "3"
     },
     "execution_count": 20,
     "metadata": {},
     "output_type": "execute_result"
    }
   ],
   "source": [
    "pq.size()"
   ],
   "metadata": {
    "collapsed": false,
    "ExecuteTime": {
     "end_time": "2024-02-27T06:49:48.665158Z",
     "start_time": "2024-02-27T06:49:48.655641Z"
    }
   },
   "id": "7772f319c9f05983",
   "execution_count": 20
  },
  {
   "cell_type": "code",
   "outputs": [
    {
     "data": {
      "text/plain": "deque([{'company': 'Wal Mart', 'timestamp': '15 Feb, 11.03 AM', 'price': 135},\n       {'company': 'Wal Mart', 'timestamp': '15 Feb, 11.02 AM', 'price': 132},\n       {'company': 'Wal Mart',\n        'timestamp': '15 Feb, 11.01 AM',\n        'price': 131.1}])"
     },
     "execution_count": 14,
     "metadata": {},
     "output_type": "execute_result"
    }
   ],
   "source": [
    "pq.buffer"
   ],
   "metadata": {
    "collapsed": false,
    "ExecuteTime": {
     "end_time": "2024-02-27T06:48:12.826310Z",
     "start_time": "2024-02-27T06:48:12.816353Z"
    }
   },
   "id": "4ffb00e83a29c171",
   "execution_count": 14
  },
  {
   "cell_type": "code",
   "outputs": [
    {
     "data": {
      "text/plain": "{'company': 'Wal Mart', 'timestamp': '15 Feb, 11.01 AM', 'price': 131.1}"
     },
     "execution_count": 15,
     "metadata": {},
     "output_type": "execute_result"
    }
   ],
   "source": [
    "pq.dequeue()"
   ],
   "metadata": {
    "collapsed": false,
    "ExecuteTime": {
     "end_time": "2024-02-27T06:48:32.727739Z",
     "start_time": "2024-02-27T06:48:32.719556Z"
    }
   },
   "id": "b1fb0b24c5f969ef",
   "execution_count": 15
  },
  {
   "cell_type": "code",
   "outputs": [
    {
     "data": {
      "text/plain": "{'company': 'Wal Mart', 'timestamp': '15 Feb, 11.02 AM', 'price': 132}"
     },
     "execution_count": 16,
     "metadata": {},
     "output_type": "execute_result"
    }
   ],
   "source": [
    "pq.dequeue()"
   ],
   "metadata": {
    "collapsed": false,
    "ExecuteTime": {
     "end_time": "2024-02-27T06:49:07.916198Z",
     "start_time": "2024-02-27T06:49:07.908599Z"
    }
   },
   "id": "21157734c9da0ee9",
   "execution_count": 16
  },
  {
   "cell_type": "code",
   "outputs": [
    {
     "data": {
      "text/plain": "{'company': 'Wal Mart', 'timestamp': '15 Feb, 11.03 AM', 'price': 135}"
     },
     "execution_count": 17,
     "metadata": {},
     "output_type": "execute_result"
    }
   ],
   "source": [
    "pq.dequeue()"
   ],
   "metadata": {
    "collapsed": false,
    "ExecuteTime": {
     "end_time": "2024-02-27T06:49:10.087108Z",
     "start_time": "2024-02-27T06:49:10.071184Z"
    }
   },
   "id": "7f29c13b6ad65a71",
   "execution_count": 17
  }
 ],
 "metadata": {
  "kernelspec": {
   "display_name": "Python 3",
   "language": "python",
   "name": "python3"
  },
  "language_info": {
   "codemirror_mode": {
    "name": "ipython",
    "version": 2
   },
   "file_extension": ".py",
   "mimetype": "text/x-python",
   "name": "python",
   "nbconvert_exporter": "python",
   "pygments_lexer": "ipython2",
   "version": "2.7.6"
  }
 },
 "nbformat": 4,
 "nbformat_minor": 5
}
